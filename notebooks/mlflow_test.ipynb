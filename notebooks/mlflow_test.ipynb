{
 "cells": [
  {
   "cell_type": "code",
   "execution_count": 1,
   "metadata": {},
   "outputs": [],
   "source": [
    "# !pip install seaborn\n",
    "# !pip install scikit-learn\n",
    "import os\n",
    "import numpy as np\n",
    "import pandas as pd\n",
    "import matplotlib.pyplot as plt\n",
    "import matplotlib.ticker as mtick\n",
    "import seaborn as sns\n",
    "\n",
    "import mlflow\n",
    "import mlflow.sklearn # Wrapper pour scikit-learn\n",
    "\n",
    "from lightgbm.sklearn import LGBMClassifier\n",
    "from sklearn.metrics import f1_score, PrecisionRecallDisplay, precision_recall_curve#, plot_precision_recall_curve\n",
    "\n"
   ]
  },
  {
   "cell_type": "code",
   "execution_count": 2,
   "metadata": {},
   "outputs": [],
   "source": [
    "os.chdir(\"c:\\\\Users\\\\vnarv\\\\purchase-predict\\\\\")"
   ]
  },
  {
   "cell_type": "code",
   "execution_count": 3,
   "metadata": {},
   "outputs": [
    {
     "data": {
      "text/plain": [
       "'c:\\\\Users\\\\vnarv\\\\purchase-predict'"
      ]
     },
     "execution_count": 3,
     "metadata": {},
     "output_type": "execute_result"
    }
   ],
   "source": [
    "os.getcwd()"
   ]
  },
  {
   "cell_type": "code",
   "execution_count": 12,
   "metadata": {},
   "outputs": [],
   "source": [
    "path_data = \"data/05_model_input\"\n",
    "X_train = pd.read_csv(path_data + \"/X_train.csv\")\n",
    "X_test = pd.read_csv(path_data + \"/X_test.csv\")\n",
    "y_train = pd.read_csv(path_data + \"/y_train.csv\").values.flatten()\n",
    "y_test = pd.read_csv(path_data + \"/y_test.csv\").values.flatten()"
   ]
  },
  {
   "cell_type": "code",
   "execution_count": 5,
   "metadata": {},
   "outputs": [],
   "source": [
    "# Hyper-paramètres des modèles\n",
    "hyp_params = {\n",
    "    \"num_leaves\": 60,\n",
    "    \"min_child_samples\": 10,\n",
    "    \"max_depth\": 12,\n",
    "    \"n_estimators\": 100,\n",
    "    \"learning_rate\": 0.1\n",
    "}"
   ]
  },
  {
   "cell_type": "code",
   "execution_count": 13,
   "metadata": {},
   "outputs": [
    {
     "name": "stdout",
     "output_type": "stream",
     "text": [
      "mlflow-artifacts:/306273990621708128/269038045a6d4bd099a59525e561a949/artifacts\n"
     ]
    }
   ],
   "source": [
    "# Identification de l'interface MLflow\n",
    "mlflow.set_tracking_uri(uri=\"http://127.0.0.1:8080\")\n",
    "mlflow.set_experiment(\"purchase-predict\")\n"
   ]
  },
  {
   "cell_type": "code",
   "execution_count": 26,
   "metadata": {},
   "outputs": [],
   "source": [
    "def save_pr_curve(X, y, model):\n",
    "    plt.figure(figsize=(16,11))\n",
    "    prec, recall, _ = precision_recall_curve(y, model.predict_proba(X)[:,1], pos_label=1)\n",
    "    pr_display = PrecisionRecallDisplay(precision=prec, recall=recall).plot(ax=plt.gca())\n",
    "    plt.title(\"PR Curve\", fontsize=16)\n",
    "    plt.gca().xaxis.set_major_formatter(mtick.PercentFormatter(1, 0))\n",
    "    plt.gca().yaxis.set_major_formatter(mtick.PercentFormatter(1, 0))\n",
    "    print(os.getcwd())\n",
    "    plt.savefig(os.path.expanduser(\"~/purchase-predict/notebooks/plots/pr_curve.png\"))\n",
    "    plt.close()\n",
    "\n",
    "def train_model(params):\n",
    "    \n",
    "    with mlflow.start_run() as run:\n",
    "        model = LGBMClassifier(**params, objective=\"binary\", verbose=-1)\n",
    "        model.fit(X_train, y_train)\n",
    "\n",
    "        score = f1_score(y_test, model.predict(X_test))\n",
    "        save_pr_curve(X_test, y_test, model)\n",
    "\n",
    "        mlflow.log_params(hyp_params)\n",
    "        mlflow.log_metric(\"f1\", score)\n",
    "        mlflow.log_artifact(os.path.expanduser(\"~/purchase-predict/notebooks/plots/pr_curve.png\"), artifact_path=\"plots\")\n",
    "        mlflow.sklearn.log_model(model, \"model\")"
   ]
  },
  {
   "cell_type": "code",
   "execution_count": 27,
   "metadata": {},
   "outputs": [
    {
     "name": "stdout",
     "output_type": "stream",
     "text": [
      "c:\\Users\\vnarv\\purchase-predict\n",
      "c:\\Users\\vnarv\\purchase-predict\n",
      "c:\\Users\\vnarv\\purchase-predict\n"
     ]
    }
   ],
   "source": [
    "train_model({**hyp_params, **{'n_estimators': 200, 'learning_rate': 0.05}})\n",
    "train_model({**hyp_params, **{'n_estimators': 500, 'learning_rate': 0.025}})\n",
    "train_model({**hyp_params, **{'n_estimators': 1000, 'learning_rate': 0.01}})"
   ]
  },
  {
   "cell_type": "code",
   "execution_count": null,
   "metadata": {},
   "outputs": [],
   "source": []
  }
 ],
 "metadata": {
  "kernelspec": {
   "display_name": ".venv",
   "language": "python",
   "name": "python3"
  },
  "language_info": {
   "codemirror_mode": {
    "name": "ipython",
    "version": 3
   },
   "file_extension": ".py",
   "mimetype": "text/x-python",
   "name": "python",
   "nbconvert_exporter": "python",
   "pygments_lexer": "ipython3",
   "version": "3.12.2"
  }
 },
 "nbformat": 4,
 "nbformat_minor": 2
}
